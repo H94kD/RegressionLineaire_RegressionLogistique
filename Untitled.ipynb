{
 "cells": [
  {
   "cell_type": "markdown",
   "id": "d1461334",
   "metadata": {},
   "source": [
    "# Regression Linéaire et Regression Logistique"
   ]
  },
  {
   "cell_type": "markdown",
   "id": "7616ccbe",
   "metadata": {},
   "source": [
    "##### "
   ]
  },
  {
   "cell_type": "markdown",
   "id": "b751e896",
   "metadata": {},
   "source": [
    "### Analyse des coûts médicaux et e la prévalence des maladies chroniques chez les patients\n",
    "objectif est d'identifier les facteurs qui influencent les coûts médicaux et d'identifierles patients à risque de développer des maladies chroniques."
   ]
  },
  {
   "cell_type": "markdown",
   "id": "08f6a455",
   "metadata": {},
   "source": [
    "##### "
   ]
  },
  {
   "cell_type": "markdown",
   "id": "846cbb2f",
   "metadata": {},
   "source": [
    "##### Données seront générées aléatoirement"
   ]
  },
  {
   "cell_type": "markdown",
   "id": "a0d7dbed",
   "metadata": {},
   "source": [
    "##### Etape 1 : Initialisation d'un dataset à 0 entrées ayant pour nom de colonnes"
   ]
  },
  {
   "cell_type": "markdown",
   "id": "ed4e7d42",
   "metadata": {},
   "source": [
    "##### Etape 2 : génération des valeurs aléatoires pour une entrée du dataset\n",
    "- age : de 0 à 120 ans\n",
    "- sexe : H ou F\n",
    "- IMC : réel\n",
    "- Revenu_annuel : 10000 à 100000\n",
    "- Maladie_chronique : OUI ou NON\n",
    "- Cout_Medical : 100 à 10000"
   ]
  },
  {
   "cell_type": "markdown",
   "id": "d25c11cd",
   "metadata": {},
   "source": [
    "##### Etape 3 : Création d'une procédure pour charger automatiquement le nombre d'entrées souhaitées dans le dataset"
   ]
  },
  {
   "cell_type": "markdown",
   "id": "eb3b810d",
   "metadata": {},
   "source": [
    "##### Etape 4 : Recherches de corrélation entre les features"
   ]
  },
  {
   "cell_type": "markdown",
   "id": "7e811d73",
   "metadata": {},
   "source": [
    "##### Etape 5 : Visualisation des corrélations entre les différentes features"
   ]
  },
  {
   "cell_type": "markdown",
   "id": "17cced42",
   "metadata": {},
   "source": [
    "##### "
   ]
  },
  {
   "cell_type": "code",
   "execution_count": 19,
   "id": "844a8edc",
   "metadata": {},
   "outputs": [],
   "source": [
    "import pandas as pd\n",
    "import numpy as np\n",
    "import glob as glob\n",
    "import matplotlib.pyplot as plt\n",
    "from sklearn.linear_model import LinearRegression\n",
    "import seaborn as sns"
   ]
  },
  {
   "cell_type": "code",
   "execution_count": 7,
   "id": "3e3e05be",
   "metadata": {},
   "outputs": [
    {
     "data": {
      "text/plain": [
       "['324-data-analyst-fr-fr-business.pdf',\n",
       " 'b0.docx',\n",
       " 'BD_recrutement.pptx',\n",
       " 'BoxWhisker(JanPieter).BoxWhiskerChart.pbix',\n",
       " 'Brief Simplon',\n",
       " 'Briefs',\n",
       " 'cas pratiquesur la gouvernance.doc',\n",
       " 'cours',\n",
       " 'Doc1.docx',\n",
       " 'donnees_energie.xls',\n",
       " 'exercices',\n",
       " 'EXERCICES SUR PANDAS.pdf',\n",
       " 'image.docx',\n",
       " 'Menu principal.jpg',\n",
       " 'présentation des groupes',\n",
       " \"Rapport d'analyse Innova Electronic.docx\",\n",
       " 'Recrutement.asi',\n",
       " 'tableau commerciaux.jpg',\n",
       " 'tableau de bord par client.jpg',\n",
       " 'tableau de bord par région.jpg',\n",
       " 'tableau de bord vente.jpg',\n",
       " 'TAF.docx',\n",
       " 'TP1.xlsx',\n",
       " 'TP2.xlsx',\n",
       " 'TP3.xlsx',\n",
       " 'TP4.xlsx',\n",
       " 'TP5',\n",
       " 'tp5.pbix',\n",
       " 'TP5.zip',\n",
       " 'Untitled.ipynb',\n",
       " 'web scraping',\n",
       " 'WhatsApp Image 2024-03-20 à 10.14.26_5a6dcb55.jpg',\n",
       " 'WhatsApp Image 2024-03-22 à 14.37.28_c56c5fb6.jpg',\n",
       " 'WhatsApp Image 2024-03-22 à 14.37.30_39e23fa3.jpg',\n",
       " '~$BD&LANGAGE DE MODELISATION.pptx']"
      ]
     },
     "execution_count": 7,
     "metadata": {},
     "output_type": "execute_result"
    }
   ],
   "source": [
    "glob.glob('*')"
   ]
  },
  {
   "cell_type": "code",
   "execution_count": 8,
   "id": "5f6c8e2f",
   "metadata": {},
   "outputs": [
    {
     "data": {
      "text/html": [
       "<div>\n",
       "<style scoped>\n",
       "    .dataframe tbody tr th:only-of-type {\n",
       "        vertical-align: middle;\n",
       "    }\n",
       "\n",
       "    .dataframe tbody tr th {\n",
       "        vertical-align: top;\n",
       "    }\n",
       "\n",
       "    .dataframe thead th {\n",
       "        text-align: right;\n",
       "    }\n",
       "</style>\n",
       "<table border=\"1\" class=\"dataframe\">\n",
       "  <thead>\n",
       "    <tr style=\"text-align: right;\">\n",
       "      <th></th>\n",
       "      <th>ID</th>\n",
       "      <th>Taille_Famille</th>\n",
       "      <th>Revenu_Annuel</th>\n",
       "      <th>Surface_Habitable</th>\n",
       "      <th>Type_Chauffage</th>\n",
       "      <th>Depense_Energie</th>\n",
       "      <th>Surconsommation</th>\n",
       "    </tr>\n",
       "  </thead>\n",
       "  <tbody>\n",
       "    <tr>\n",
       "      <th>0</th>\n",
       "      <td>1</td>\n",
       "      <td>4</td>\n",
       "      <td>69582.182107</td>\n",
       "      <td>150.955336</td>\n",
       "      <td>0</td>\n",
       "      <td>1192.434092</td>\n",
       "      <td>0</td>\n",
       "    </tr>\n",
       "    <tr>\n",
       "      <th>1</th>\n",
       "      <td>2</td>\n",
       "      <td>5</td>\n",
       "      <td>50315.057624</td>\n",
       "      <td>75.433189</td>\n",
       "      <td>2</td>\n",
       "      <td>2582.369677</td>\n",
       "      <td>1</td>\n",
       "    </tr>\n",
       "    <tr>\n",
       "      <th>2</th>\n",
       "      <td>3</td>\n",
       "      <td>3</td>\n",
       "      <td>60229.294569</td>\n",
       "      <td>128.011508</td>\n",
       "      <td>2</td>\n",
       "      <td>1632.704212</td>\n",
       "      <td>0</td>\n",
       "    </tr>\n",
       "    <tr>\n",
       "      <th>3</th>\n",
       "      <td>4</td>\n",
       "      <td>5</td>\n",
       "      <td>45345.998651</td>\n",
       "      <td>146.688924</td>\n",
       "      <td>0</td>\n",
       "      <td>1594.873781</td>\n",
       "      <td>0</td>\n",
       "    </tr>\n",
       "    <tr>\n",
       "      <th>4</th>\n",
       "      <td>5</td>\n",
       "      <td>5</td>\n",
       "      <td>54862.495287</td>\n",
       "      <td>122.468520</td>\n",
       "      <td>1</td>\n",
       "      <td>2100.284599</td>\n",
       "      <td>0</td>\n",
       "    </tr>\n",
       "  </tbody>\n",
       "</table>\n",
       "</div>"
      ],
      "text/plain": [
       "   ID  Taille_Famille  Revenu_Annuel  Surface_Habitable  Type_Chauffage  \\\n",
       "0   1               4   69582.182107         150.955336               0   \n",
       "1   2               5   50315.057624          75.433189               2   \n",
       "2   3               3   60229.294569         128.011508               2   \n",
       "3   4               5   45345.998651         146.688924               0   \n",
       "4   5               5   54862.495287         122.468520               1   \n",
       "\n",
       "   Depense_Energie  Surconsommation  \n",
       "0      1192.434092                0  \n",
       "1      2582.369677                1  \n",
       "2      1632.704212                0  \n",
       "3      1594.873781                0  \n",
       "4      2100.284599                0  "
      ]
     },
     "execution_count": 8,
     "metadata": {},
     "output_type": "execute_result"
    }
   ],
   "source": [
    "datas = pd.read_csv(\"donnees_energie.xls\")\n",
    "datas.head()"
   ]
  },
  {
   "cell_type": "code",
   "execution_count": 9,
   "id": "2f7a81b7",
   "metadata": {
    "scrolled": true
   },
   "outputs": [
    {
     "data": {
      "text/html": [
       "<div>\n",
       "<style scoped>\n",
       "    .dataframe tbody tr th:only-of-type {\n",
       "        vertical-align: middle;\n",
       "    }\n",
       "\n",
       "    .dataframe tbody tr th {\n",
       "        vertical-align: top;\n",
       "    }\n",
       "\n",
       "    .dataframe thead th {\n",
       "        text-align: right;\n",
       "    }\n",
       "</style>\n",
       "<table border=\"1\" class=\"dataframe\">\n",
       "  <thead>\n",
       "    <tr style=\"text-align: right;\">\n",
       "      <th></th>\n",
       "      <th>ID</th>\n",
       "      <th>Taille_Famille</th>\n",
       "      <th>Revenu_Annuel</th>\n",
       "      <th>Surface_Habitable</th>\n",
       "      <th>Type_Chauffage</th>\n",
       "      <th>Depense_Energie</th>\n",
       "      <th>Surconsommation</th>\n",
       "    </tr>\n",
       "  </thead>\n",
       "  <tbody>\n",
       "    <tr>\n",
       "      <th>count</th>\n",
       "      <td>500.000000</td>\n",
       "      <td>500.000000</td>\n",
       "      <td>500.000000</td>\n",
       "      <td>500.000000</td>\n",
       "      <td>500.000000</td>\n",
       "      <td>500.000000</td>\n",
       "      <td>500.000000</td>\n",
       "    </tr>\n",
       "    <tr>\n",
       "      <th>mean</th>\n",
       "      <td>250.500000</td>\n",
       "      <td>2.970000</td>\n",
       "      <td>49764.928431</td>\n",
       "      <td>123.591619</td>\n",
       "      <td>0.964000</td>\n",
       "      <td>2013.281248</td>\n",
       "      <td>0.158000</td>\n",
       "    </tr>\n",
       "    <tr>\n",
       "      <th>std</th>\n",
       "      <td>144.481833</td>\n",
       "      <td>1.425891</td>\n",
       "      <td>14760.468890</td>\n",
       "      <td>29.816988</td>\n",
       "      <td>0.817337</td>\n",
       "      <td>490.049775</td>\n",
       "      <td>0.365106</td>\n",
       "    </tr>\n",
       "    <tr>\n",
       "      <th>min</th>\n",
       "      <td>1.000000</td>\n",
       "      <td>1.000000</td>\n",
       "      <td>9546.700356</td>\n",
       "      <td>33.112339</td>\n",
       "      <td>0.000000</td>\n",
       "      <td>490.243922</td>\n",
       "      <td>0.000000</td>\n",
       "    </tr>\n",
       "    <tr>\n",
       "      <th>25%</th>\n",
       "      <td>125.750000</td>\n",
       "      <td>2.000000</td>\n",
       "      <td>39402.961796</td>\n",
       "      <td>103.193669</td>\n",
       "      <td>0.000000</td>\n",
       "      <td>1690.774589</td>\n",
       "      <td>0.000000</td>\n",
       "    </tr>\n",
       "    <tr>\n",
       "      <th>50%</th>\n",
       "      <td>250.500000</td>\n",
       "      <td>3.000000</td>\n",
       "      <td>49718.529921</td>\n",
       "      <td>123.805213</td>\n",
       "      <td>1.000000</td>\n",
       "      <td>2006.317973</td>\n",
       "      <td>0.000000</td>\n",
       "    </tr>\n",
       "    <tr>\n",
       "      <th>75%</th>\n",
       "      <td>375.250000</td>\n",
       "      <td>4.000000</td>\n",
       "      <td>59347.511053</td>\n",
       "      <td>142.779003</td>\n",
       "      <td>2.000000</td>\n",
       "      <td>2340.841446</td>\n",
       "      <td>0.000000</td>\n",
       "    </tr>\n",
       "    <tr>\n",
       "      <th>max</th>\n",
       "      <td>500.000000</td>\n",
       "      <td>5.000000</td>\n",
       "      <td>96183.212127</td>\n",
       "      <td>197.391280</td>\n",
       "      <td>2.000000</td>\n",
       "      <td>3596.553784</td>\n",
       "      <td>1.000000</td>\n",
       "    </tr>\n",
       "  </tbody>\n",
       "</table>\n",
       "</div>"
      ],
      "text/plain": [
       "               ID  Taille_Famille  Revenu_Annuel  Surface_Habitable  \\\n",
       "count  500.000000      500.000000     500.000000         500.000000   \n",
       "mean   250.500000        2.970000   49764.928431         123.591619   \n",
       "std    144.481833        1.425891   14760.468890          29.816988   \n",
       "min      1.000000        1.000000    9546.700356          33.112339   \n",
       "25%    125.750000        2.000000   39402.961796         103.193669   \n",
       "50%    250.500000        3.000000   49718.529921         123.805213   \n",
       "75%    375.250000        4.000000   59347.511053         142.779003   \n",
       "max    500.000000        5.000000   96183.212127         197.391280   \n",
       "\n",
       "       Type_Chauffage  Depense_Energie  Surconsommation  \n",
       "count      500.000000       500.000000       500.000000  \n",
       "mean         0.964000      2013.281248         0.158000  \n",
       "std          0.817337       490.049775         0.365106  \n",
       "min          0.000000       490.243922         0.000000  \n",
       "25%          0.000000      1690.774589         0.000000  \n",
       "50%          1.000000      2006.317973         0.000000  \n",
       "75%          2.000000      2340.841446         0.000000  \n",
       "max          2.000000      3596.553784         1.000000  "
      ]
     },
     "execution_count": 9,
     "metadata": {},
     "output_type": "execute_result"
    }
   ],
   "source": [
    "datas.describe()"
   ]
  },
  {
   "cell_type": "code",
   "execution_count": 22,
   "id": "066497d4",
   "metadata": {},
   "outputs": [
    {
     "name": "stdout",
     "output_type": "stream",
     "text": [
      "<class 'pandas.core.frame.DataFrame'>\n",
      "RangeIndex: 500 entries, 0 to 499\n",
      "Data columns (total 7 columns):\n",
      " #   Column             Non-Null Count  Dtype  \n",
      "---  ------             --------------  -----  \n",
      " 0   ID                 500 non-null    int64  \n",
      " 1   Taille_Famille     500 non-null    int64  \n",
      " 2   Revenu_Annuel      500 non-null    float64\n",
      " 3   Surface_Habitable  500 non-null    float64\n",
      " 4   Type_Chauffage     500 non-null    int64  \n",
      " 5   Depense_Energie    500 non-null    float64\n",
      " 6   Surconsommation    500 non-null    int64  \n",
      "dtypes: float64(3), int64(4)\n",
      "memory usage: 27.5 KB\n"
     ]
    }
   ],
   "source": [
    "datas.info()"
   ]
  },
  {
   "cell_type": "code",
   "execution_count": 13,
   "id": "a3dec8c6",
   "metadata": {},
   "outputs": [
    {
     "data": {
      "text/plain": [
       "Type_Chauffage\n",
       "0    176\n",
       "1    166\n",
       "2    158\n",
       "Name: count, dtype: int64"
      ]
     },
     "execution_count": 13,
     "metadata": {},
     "output_type": "execute_result"
    }
   ],
   "source": [
    "datas[\"Type_Chauffage\"].value_counts()"
   ]
  },
  {
   "cell_type": "code",
   "execution_count": 21,
   "id": "246e230b",
   "metadata": {},
   "outputs": [
    {
     "data": {
      "text/plain": [
       "Taille_Famille\n",
       "4    112\n",
       "1    109\n",
       "2     95\n",
       "5     93\n",
       "3     91\n",
       "Name: count, dtype: int64"
      ]
     },
     "execution_count": 21,
     "metadata": {},
     "output_type": "execute_result"
    }
   ],
   "source": [
    "datas[\"Taille_Famille\"].value_counts()"
   ]
  },
  {
   "cell_type": "code",
   "execution_count": 15,
   "id": "67221538",
   "metadata": {},
   "outputs": [
    {
     "data": {
      "text/plain": [
       "ID                   0\n",
       "Taille_Famille       0\n",
       "Revenu_Annuel        0\n",
       "Surface_Habitable    0\n",
       "Type_Chauffage       0\n",
       "Depense_Energie      0\n",
       "Surconsommation      0\n",
       "dtype: int64"
      ]
     },
     "execution_count": 15,
     "metadata": {},
     "output_type": "execute_result"
    }
   ],
   "source": [
    "datas.isna().sum() # Pas de valeur manquantes"
   ]
  },
  {
   "cell_type": "code",
   "execution_count": 16,
   "id": "81fb7e0e",
   "metadata": {},
   "outputs": [
    {
     "data": {
      "text/html": [
       "<div>\n",
       "<style scoped>\n",
       "    .dataframe tbody tr th:only-of-type {\n",
       "        vertical-align: middle;\n",
       "    }\n",
       "\n",
       "    .dataframe tbody tr th {\n",
       "        vertical-align: top;\n",
       "    }\n",
       "\n",
       "    .dataframe thead th {\n",
       "        text-align: right;\n",
       "    }\n",
       "</style>\n",
       "<table border=\"1\" class=\"dataframe\">\n",
       "  <thead>\n",
       "    <tr style=\"text-align: right;\">\n",
       "      <th></th>\n",
       "      <th>ID</th>\n",
       "      <th>Taille_Famille</th>\n",
       "      <th>Revenu_Annuel</th>\n",
       "      <th>Surface_Habitable</th>\n",
       "      <th>Type_Chauffage</th>\n",
       "      <th>Depense_Energie</th>\n",
       "      <th>Surconsommation</th>\n",
       "    </tr>\n",
       "  </thead>\n",
       "  <tbody>\n",
       "    <tr>\n",
       "      <th>ID</th>\n",
       "      <td>1.000000</td>\n",
       "      <td>-0.016114</td>\n",
       "      <td>-0.002211</td>\n",
       "      <td>-0.047108</td>\n",
       "      <td>0.024590</td>\n",
       "      <td>-0.035261</td>\n",
       "      <td>-0.058865</td>\n",
       "    </tr>\n",
       "    <tr>\n",
       "      <th>Taille_Famille</th>\n",
       "      <td>-0.016114</td>\n",
       "      <td>1.000000</td>\n",
       "      <td>0.060058</td>\n",
       "      <td>-0.062131</td>\n",
       "      <td>0.045499</td>\n",
       "      <td>0.015483</td>\n",
       "      <td>-0.052467</td>\n",
       "    </tr>\n",
       "    <tr>\n",
       "      <th>Revenu_Annuel</th>\n",
       "      <td>-0.002211</td>\n",
       "      <td>0.060058</td>\n",
       "      <td>1.000000</td>\n",
       "      <td>0.006710</td>\n",
       "      <td>-0.098765</td>\n",
       "      <td>-0.044917</td>\n",
       "      <td>0.012613</td>\n",
       "    </tr>\n",
       "    <tr>\n",
       "      <th>Surface_Habitable</th>\n",
       "      <td>-0.047108</td>\n",
       "      <td>-0.062131</td>\n",
       "      <td>0.006710</td>\n",
       "      <td>1.000000</td>\n",
       "      <td>0.003622</td>\n",
       "      <td>-0.003289</td>\n",
       "      <td>0.003325</td>\n",
       "    </tr>\n",
       "    <tr>\n",
       "      <th>Type_Chauffage</th>\n",
       "      <td>0.024590</td>\n",
       "      <td>0.045499</td>\n",
       "      <td>-0.098765</td>\n",
       "      <td>0.003622</td>\n",
       "      <td>1.000000</td>\n",
       "      <td>0.018849</td>\n",
       "      <td>-0.007763</td>\n",
       "    </tr>\n",
       "    <tr>\n",
       "      <th>Depense_Energie</th>\n",
       "      <td>-0.035261</td>\n",
       "      <td>0.015483</td>\n",
       "      <td>-0.044917</td>\n",
       "      <td>-0.003289</td>\n",
       "      <td>0.018849</td>\n",
       "      <td>1.000000</td>\n",
       "      <td>0.649829</td>\n",
       "    </tr>\n",
       "    <tr>\n",
       "      <th>Surconsommation</th>\n",
       "      <td>-0.058865</td>\n",
       "      <td>-0.052467</td>\n",
       "      <td>0.012613</td>\n",
       "      <td>0.003325</td>\n",
       "      <td>-0.007763</td>\n",
       "      <td>0.649829</td>\n",
       "      <td>1.000000</td>\n",
       "    </tr>\n",
       "  </tbody>\n",
       "</table>\n",
       "</div>"
      ],
      "text/plain": [
       "                         ID  Taille_Famille  Revenu_Annuel  Surface_Habitable  \\\n",
       "ID                 1.000000       -0.016114      -0.002211          -0.047108   \n",
       "Taille_Famille    -0.016114        1.000000       0.060058          -0.062131   \n",
       "Revenu_Annuel     -0.002211        0.060058       1.000000           0.006710   \n",
       "Surface_Habitable -0.047108       -0.062131       0.006710           1.000000   \n",
       "Type_Chauffage     0.024590        0.045499      -0.098765           0.003622   \n",
       "Depense_Energie   -0.035261        0.015483      -0.044917          -0.003289   \n",
       "Surconsommation   -0.058865       -0.052467       0.012613           0.003325   \n",
       "\n",
       "                   Type_Chauffage  Depense_Energie  Surconsommation  \n",
       "ID                       0.024590        -0.035261        -0.058865  \n",
       "Taille_Famille           0.045499         0.015483        -0.052467  \n",
       "Revenu_Annuel           -0.098765        -0.044917         0.012613  \n",
       "Surface_Habitable        0.003622        -0.003289         0.003325  \n",
       "Type_Chauffage           1.000000         0.018849        -0.007763  \n",
       "Depense_Energie          0.018849         1.000000         0.649829  \n",
       "Surconsommation         -0.007763         0.649829         1.000000  "
      ]
     },
     "execution_count": 16,
     "metadata": {},
     "output_type": "execute_result"
    }
   ],
   "source": [
    "datas.corr()"
   ]
  },
  {
   "cell_type": "code",
   "execution_count": 20,
   "id": "6a5a7863",
   "metadata": {},
   "outputs": [
    {
     "data": {
      "text/plain": [
       "<Axes: >"
      ]
     },
     "execution_count": 20,
     "metadata": {},
     "output_type": "execute_result"
    },
    {
     "data": {
      "image/png": "[encoded data removed]",
      "text/plain": [
       "<Figure size 640x480 with 2 Axes>"
      ]
     },
     "metadata": {},
     "output_type": "display_data"
    }
   ],
   "source": [
    "sns.heatmap(datas.corr())"
   ]
  },
  {
   "cell_type": "markdown",
   "id": "ef2c304f",
   "metadata": {},
   "source": [
    "##### On observe une corrélation de 0,64 entre la surconsommation et la dépense en énergie"
   ]
  },
  {
   "cell_type": "markdown",
   "id": "312c6c7e",
   "metadata": {},
   "source": [
    "##### "
   ]
  },
  {
   "cell_type": "code",
   "execution_count": 23,
   "id": "c15be7f4",
   "metadata": {},
   "outputs": [
    {
     "data": {
      "text/html": [
       "<div>\n",
       "<style scoped>\n",
       "    .dataframe tbody tr th:only-of-type {\n",
       "        vertical-align: middle;\n",
       "    }\n",
       "\n",
       "    .dataframe tbody tr th {\n",
       "        vertical-align: top;\n",
       "    }\n",
       "\n",
       "    .dataframe thead th {\n",
       "        text-align: right;\n",
       "    }\n",
       "</style>\n",
       "<table border=\"1\" class=\"dataframe\">\n",
       "  <thead>\n",
       "    <tr style=\"text-align: right;\">\n",
       "      <th></th>\n",
       "      <th>Taille_Famille</th>\n",
       "      <th>Revenu_Annuel</th>\n",
       "      <th>Surface_Habitable</th>\n",
       "      <th>Type_Chauffage</th>\n",
       "      <th>Depense_Energie</th>\n",
       "      <th>Surconsommation</th>\n",
       "    </tr>\n",
       "  </thead>\n",
       "  <tbody>\n",
       "    <tr>\n",
       "      <th>0</th>\n",
       "      <td>4</td>\n",
       "      <td>69582.182107</td>\n",
       "      <td>150.955336</td>\n",
       "      <td>0</td>\n",
       "      <td>1192.434092</td>\n",
       "      <td>0</td>\n",
       "    </tr>\n",
       "    <tr>\n",
       "      <th>1</th>\n",
       "      <td>5</td>\n",
       "      <td>50315.057624</td>\n",
       "      <td>75.433189</td>\n",
       "      <td>2</td>\n",
       "      <td>2582.369677</td>\n",
       "      <td>1</td>\n",
       "    </tr>\n",
       "    <tr>\n",
       "      <th>2</th>\n",
       "      <td>3</td>\n",
       "      <td>60229.294569</td>\n",
       "      <td>128.011508</td>\n",
       "      <td>2</td>\n",
       "      <td>1632.704212</td>\n",
       "      <td>0</td>\n",
       "    </tr>\n",
       "    <tr>\n",
       "      <th>3</th>\n",
       "      <td>5</td>\n",
       "      <td>45345.998651</td>\n",
       "      <td>146.688924</td>\n",
       "      <td>0</td>\n",
       "      <td>1594.873781</td>\n",
       "      <td>0</td>\n",
       "    </tr>\n",
       "    <tr>\n",
       "      <th>4</th>\n",
       "      <td>5</td>\n",
       "      <td>54862.495287</td>\n",
       "      <td>122.468520</td>\n",
       "      <td>1</td>\n",
       "      <td>2100.284599</td>\n",
       "      <td>0</td>\n",
       "    </tr>\n",
       "  </tbody>\n",
       "</table>\n",
       "</div>"
      ],
      "text/plain": [
       "   Taille_Famille  Revenu_Annuel  Surface_Habitable  Type_Chauffage  \\\n",
       "0               4   69582.182107         150.955336               0   \n",
       "1               5   50315.057624          75.433189               2   \n",
       "2               3   60229.294569         128.011508               2   \n",
       "3               5   45345.998651         146.688924               0   \n",
       "4               5   54862.495287         122.468520               1   \n",
       "\n",
       "   Depense_Energie  Surconsommation  \n",
       "0      1192.434092                0  \n",
       "1      2582.369677                1  \n",
       "2      1632.704212                0  \n",
       "3      1594.873781                0  \n",
       "4      2100.284599                0  "
      ]
     },
     "execution_count": 23,
     "metadata": {},
     "output_type": "execute_result"
    }
   ],
   "source": [
    "datas.drop(\"ID\", axis = 1, inplace = True)\n",
    "datas.head()"
   ]
  },
  {
   "cell_type": "code",
   "execution_count": 26,
   "id": "20f20dcc",
   "metadata": {},
   "outputs": [
    {
     "data": {
      "image/png": "[encoded data removed]",
      "text/plain": [
       "<Figure size 640x480 with 1 Axes>"
      ]
     },
     "metadata": {},
     "output_type": "display_data"
    }
   ],
   "source": [
    "plt.hist(datas[\"Depense_Energie\"]);"
   ]
  },
  {
   "cell_type": "code",
   "execution_count": 31,
   "id": "8e80507a",
   "metadata": {},
   "outputs": [
    {
     "data": {
      "text/plain": [
       "<matplotlib.collections.PathCollection at 0x14b6a65d090>"
      ]
     },
     "execution_count": 31,
     "metadata": {},
     "output_type": "execute_result"
    },
    {
     "data": {
      "image/png": "[encoded data removed]",
      "text/plain": [
       "<Figure size 640x480 with 1 Axes>"
      ]
     },
     "metadata": {},
     "output_type": "display_data"
    }
   ],
   "source": [
    "plt.scatter(range(len(datas[\"Depense_Energie\"])), datas[\"Depense_Energie\"])"
   ]
  },
  {
   "cell_type": "markdown",
   "id": "09628251",
   "metadata": {},
   "source": [
    "##### Essaie de prédiction de la consommation avec un model de regression linéaire"
   ]
  },
  {
   "cell_type": "code",
   "execution_count": 35,
   "id": "c9488ed6",
   "metadata": {},
   "outputs": [],
   "source": [
    "from sklearn.model_selection import train_test_split"
   ]
  },
  {
   "cell_type": "code",
   "execution_count": 42,
   "id": "6d1b1133",
   "metadata": {},
   "outputs": [],
   "source": [
    "y = datas[\"Depense_Energie\"]"
   ]
  },
  {
   "cell_type": "code",
   "execution_count": 43,
   "id": "213840f9",
   "metadata": {},
   "outputs": [],
   "source": [
    "X = datas.drop(\"Depense_Energie\", axis = 1)"
   ]
  },
  {
   "cell_type": "code",
   "execution_count": 44,
   "id": "117201ab",
   "metadata": {},
   "outputs": [],
   "source": [
    "X_test, X_train, y_test, y_train = train_test_split(X, y, test_size = 0.8)"
   ]
  },
  {
   "cell_type": "code",
   "execution_count": 45,
   "id": "1ef0b2bf",
   "metadata": {},
   "outputs": [],
   "source": [
    "model = LinearRegression()"
   ]
  },
  {
   "cell_type": "code",
   "execution_count": 46,
   "id": "3ff6934f",
   "metadata": {},
   "outputs": [
    {
     "data": {
      "text/plain": [
       "0.4562091246593619"
      ]
     },
     "execution_count": 46,
     "metadata": {},
     "output_type": "execute_result"
    }
   ],
   "source": [
    "model.fit(X_train, y_train)\n",
    "model.score(X_train, y_train)"
   ]
  },
  {
   "cell_type": "code",
   "execution_count": 47,
   "id": "2233ec56",
   "metadata": {},
   "outputs": [
    {
     "data": {
      "text/plain": [
       "0.4138131011523978"
      ]
     },
     "execution_count": 47,
     "metadata": {},
     "output_type": "execute_result"
    }
   ],
   "source": [
    "model.score(X_test, y_test)"
   ]
  },
  {
   "cell_type": "markdown",
   "id": "064a4157",
   "metadata": {},
   "source": [
    "##### Etant donné que les variables sont très peu corrélées les unes des autres"
   ]
  },
  {
   "cell_type": "code",
   "execution_count": 133,
   "id": "35c8cfb7",
   "metadata": {},
   "outputs": [],
   "source": [
    "X = datas[\"Surconsommation\"]"
   ]
  },
  {
   "cell_type": "code",
   "execution_count": 134,
   "id": "9eb1a7a6",
   "metadata": {},
   "outputs": [],
   "source": [
    "X_test, X_train, y_test, y_train = train_test_split(X, y, test_size = 0.8)"
   ]
  },
  {
   "cell_type": "code",
   "execution_count": 135,
   "id": "4b05461e",
   "metadata": {},
   "outputs": [
    {
     "data": {
      "text/plain": [
       "(100,)"
      ]
     },
     "execution_count": 135,
     "metadata": {},
     "output_type": "execute_result"
    }
   ],
   "source": [
    "X_test.shape"
   ]
  },
  {
   "cell_type": "code",
   "execution_count": 94,
   "id": "af74cac2",
   "metadata": {},
   "outputs": [],
   "source": [
    "X_train = np.array(X_train)\n",
    "y_train = np.array(y_train)\n",
    "X_test = np.array(X_test)\n",
    "y_test = np.array(y_test)"
   ]
  },
  {
   "cell_type": "code",
   "execution_count": 96,
   "id": "ca8e58aa",
   "metadata": {},
   "outputs": [
    {
     "name": "stdout",
     "output_type": "stream",
     "text": [
      "(400, 1)\n",
      "(400, 1)\n",
      "(100, 1)\n",
      "(100, 1)\n"
     ]
    }
   ],
   "source": [
    "X_train.resize(400,1)\n",
    "y_train.resize(400,1)\n",
    "X_test.resize(100,1)\n",
    "y_test.resize(100,1)\n",
    "print(X_train.shape)\n",
    "print(y_train.shape)\n",
    "print(X_test.shape)\n",
    "print(y_test.shape)\n"
   ]
  },
  {
   "cell_type": "code",
   "execution_count": 97,
   "id": "e9f88ff9",
   "metadata": {},
   "outputs": [
    {
     "data": {
      "text/plain": [
       "0.40070423521441045"
      ]
     },
     "execution_count": 97,
     "metadata": {},
     "output_type": "execute_result"
    }
   ],
   "source": [
    "model.fit(X_train, y_train)\n",
    "model.score(X_train, y_train)"
   ]
  },
  {
   "cell_type": "markdown",
   "id": "fd28a6ba",
   "metadata": {},
   "source": [
    "##### On obtient un score moins bon que celui obtenu en prenant en compte les autres features"
   ]
  },
  {
   "cell_type": "code",
   "execution_count": 98,
   "id": "41649e96",
   "metadata": {},
   "outputs": [
    {
     "data": {
      "text/plain": [
       "0.4837169373195669"
      ]
     },
     "execution_count": 98,
     "metadata": {},
     "output_type": "execute_result"
    }
   ],
   "source": [
    "model.score(X_test, y_test)"
   ]
  },
  {
   "cell_type": "code",
   "execution_count": 235,
   "id": "03ba2b60",
   "metadata": {},
   "outputs": [
    {
     "ename": "TypeError",
     "evalue": "scatter() missing 1 required positional argument: 'y'",
     "output_type": "error",
     "traceback": [
      "\u001b[1;31m---------------------------------------------------------------------------\u001b[0m",
      "\u001b[1;31mTypeError\u001b[0m                                 Traceback (most recent call last)",
      "Cell \u001b[1;32mIn[235], line 1\u001b[0m\n\u001b[1;32m----> 1\u001b[0m plt\u001b[38;5;241m.\u001b[39mscatter(X_train)\n",
      "\u001b[1;31mTypeError\u001b[0m: scatter() missing 1 required positional argument: 'y'"
     ]
    }
   ],
   "source": [
    "plt.plot(X_train)"
   ]
  },
  {
   "cell_type": "markdown",
   "id": "fb8437e6",
   "metadata": {},
   "source": [
    "##### En nous recentrant dans l'esprit du brief"
   ]
  },
  {
   "cell_type": "code",
   "execution_count": 107,
   "id": "52858153",
   "metadata": {},
   "outputs": [],
   "source": [
    "datas = pd.read_csv(\"donnees_energie.xls\")\n",
    "y1 = datas[\"Depense_Energie\"]\n",
    "y2 = datas[\"Surconsommation\"]\n",
    "X = datas.drop([\"Depense_Energie\", \"Surconsommation\", 'ID'], axis = 1)"
   ]
  },
  {
   "cell_type": "code",
   "execution_count": 108,
   "id": "e76d4336",
   "metadata": {},
   "outputs": [
    {
     "data": {
      "text/html": [
       "<div>\n",
       "<style scoped>\n",
       "    .dataframe tbody tr th:only-of-type {\n",
       "        vertical-align: middle;\n",
       "    }\n",
       "\n",
       "    .dataframe tbody tr th {\n",
       "        vertical-align: top;\n",
       "    }\n",
       "\n",
       "    .dataframe thead th {\n",
       "        text-align: right;\n",
       "    }\n",
       "</style>\n",
       "<table border=\"1\" class=\"dataframe\">\n",
       "  <thead>\n",
       "    <tr style=\"text-align: right;\">\n",
       "      <th></th>\n",
       "      <th>Taille_Famille</th>\n",
       "      <th>Revenu_Annuel</th>\n",
       "      <th>Surface_Habitable</th>\n",
       "      <th>Type_Chauffage</th>\n",
       "    </tr>\n",
       "  </thead>\n",
       "  <tbody>\n",
       "    <tr>\n",
       "      <th>0</th>\n",
       "      <td>4</td>\n",
       "      <td>69582.182107</td>\n",
       "      <td>150.955336</td>\n",
       "      <td>0</td>\n",
       "    </tr>\n",
       "    <tr>\n",
       "      <th>1</th>\n",
       "      <td>5</td>\n",
       "      <td>50315.057624</td>\n",
       "      <td>75.433189</td>\n",
       "      <td>2</td>\n",
       "    </tr>\n",
       "    <tr>\n",
       "      <th>2</th>\n",
       "      <td>3</td>\n",
       "      <td>60229.294569</td>\n",
       "      <td>128.011508</td>\n",
       "      <td>2</td>\n",
       "    </tr>\n",
       "    <tr>\n",
       "      <th>3</th>\n",
       "      <td>5</td>\n",
       "      <td>45345.998651</td>\n",
       "      <td>146.688924</td>\n",
       "      <td>0</td>\n",
       "    </tr>\n",
       "    <tr>\n",
       "      <th>4</th>\n",
       "      <td>5</td>\n",
       "      <td>54862.495287</td>\n",
       "      <td>122.468520</td>\n",
       "      <td>1</td>\n",
       "    </tr>\n",
       "  </tbody>\n",
       "</table>\n",
       "</div>"
      ],
      "text/plain": [
       "   Taille_Famille  Revenu_Annuel  Surface_Habitable  Type_Chauffage\n",
       "0               4   69582.182107         150.955336               0\n",
       "1               5   50315.057624          75.433189               2\n",
       "2               3   60229.294569         128.011508               2\n",
       "3               5   45345.998651         146.688924               0\n",
       "4               5   54862.495287         122.468520               1"
      ]
     },
     "execution_count": 108,
     "metadata": {},
     "output_type": "execute_result"
    }
   ],
   "source": [
    "X.head()"
   ]
  },
  {
   "cell_type": "code",
   "execution_count": 116,
   "id": "fa5640e2",
   "metadata": {},
   "outputs": [],
   "source": [
    "X_test, X_train, y_test, y_train = train_test_split(X,y1)"
   ]
  },
  {
   "cell_type": "code",
   "execution_count": 117,
   "id": "c89c0988",
   "metadata": {},
   "outputs": [
    {
     "data": {
      "text/html": [
       "<style>#sk-container-id-3 {color: black;}#sk-container-id-3 pre{padding: 0;}#sk-container-id-3 div.sk-toggleable {background-color: white;}#sk-container-id-3 label.sk-toggleable__label {cursor: pointer;display: block;width: 100%;margin-bottom: 0;padding: 0.3em;box-sizing: border-box;text-align: center;}#sk-container-id-3 label.sk-toggleable__label-arrow:before {content: \"▸\";float: left;margin-right: 0.25em;color: #696969;}#sk-container-id-3 label.sk-toggleable__label-arrow:hover:before {color: black;}#sk-container-id-3 div.sk-estimator:hover label.sk-toggleable__label-arrow:before {color: black;}#sk-container-id-3 div.sk-toggleable__content {max-height: 0;max-width: 0;overflow: hidden;text-align: left;background-color: #f0f8ff;}#sk-container-id-3 div.sk-toggleable__content pre {margin: 0.2em;color: black;border-radius: 0.25em;background-color: #f0f8ff;}#sk-container-id-3 input.sk-toggleable__control:checked~div.sk-toggleable__content {max-height: 200px;max-width: 100%;overflow: auto;}#sk-container-id-3 input.sk-toggleable__control:checked~label.sk-toggleable__label-arrow:before {content: \"▾\";}#sk-container-id-3 div.sk-estimator input.sk-toggleable__control:checked~label.sk-toggleable__label {background-color: #d4ebff;}#sk-container-id-3 div.sk-label input.sk-toggleable__control:checked~label.sk-toggleable__label {background-color: #d4ebff;}#sk-container-id-3 input.sk-hidden--visually {border: 0;clip: rect(1px 1px 1px 1px);clip: rect(1px, 1px, 1px, 1px);height: 1px;margin: -1px;overflow: hidden;padding: 0;position: absolute;width: 1px;}#sk-container-id-3 div.sk-estimator {font-family: monospace;background-color: #f0f8ff;border: 1px dotted black;border-radius: 0.25em;box-sizing: border-box;margin-bottom: 0.5em;}#sk-container-id-3 div.sk-estimator:hover {background-color: #d4ebff;}#sk-container-id-3 div.sk-parallel-item::after {content: \"\";width: 100%;border-bottom: 1px solid gray;flex-grow: 1;}#sk-container-id-3 div.sk-label:hover label.sk-toggleable__label {background-color: #d4ebff;}#sk-container-id-3 div.sk-serial::before {content: \"\";position: absolute;border-left: 1px solid gray;box-sizing: border-box;top: 0;bottom: 0;left: 50%;z-index: 0;}#sk-container-id-3 div.sk-serial {display: flex;flex-direction: column;align-items: center;background-color: white;padding-right: 0.2em;padding-left: 0.2em;position: relative;}#sk-container-id-3 div.sk-item {position: relative;z-index: 1;}#sk-container-id-3 div.sk-parallel {display: flex;align-items: stretch;justify-content: center;background-color: white;position: relative;}#sk-container-id-3 div.sk-item::before, #sk-container-id-3 div.sk-parallel-item::before {content: \"\";position: absolute;border-left: 1px solid gray;box-sizing: border-box;top: 0;bottom: 0;left: 50%;z-index: -1;}#sk-container-id-3 div.sk-parallel-item {display: flex;flex-direction: column;z-index: 1;position: relative;background-color: white;}#sk-container-id-3 div.sk-parallel-item:first-child::after {align-self: flex-end;width: 50%;}#sk-container-id-3 div.sk-parallel-item:last-child::after {align-self: flex-start;width: 50%;}#sk-container-id-3 div.sk-parallel-item:only-child::after {width: 0;}#sk-container-id-3 div.sk-dashed-wrapped {border: 1px dashed gray;margin: 0 0.4em 0.5em 0.4em;box-sizing: border-box;padding-bottom: 0.4em;background-color: white;}#sk-container-id-3 div.sk-label label {font-family: monospace;font-weight: bold;display: inline-block;line-height: 1.2em;}#sk-container-id-3 div.sk-label-container {text-align: center;}#sk-container-id-3 div.sk-container {/* jupyter's `normalize.less` sets `[hidden] { display: none; }` but bootstrap.min.css set `[hidden] { display: none !important; }` so we also need the `!important` here to be able to override the default hidden behavior on the sphinx rendered scikit-learn.org. See: https://github.com/scikit-learn/scikit-learn/issues/21755 */display: inline-block !important;position: relative;}#sk-container-id-3 div.sk-text-repr-fallback {display: none;}</style><div id=\"sk-container-id-3\" class=\"sk-top-container\"><div class=\"sk-text-repr-fallback\"><pre>LinearRegression()</pre><b>In a Jupyter environment, please rerun this cell to show the HTML representation or trust the notebook. <br />On GitHub, the HTML representation is unable to render, please try loading this page with nbviewer.org.</b></div><div class=\"sk-container\" hidden><div class=\"sk-item\"><div class=\"sk-estimator sk-toggleable\"><input class=\"sk-toggleable__control sk-hidden--visually\" id=\"sk-estimator-id-3\" type=\"checkbox\" checked><label for=\"sk-estimator-id-3\" class=\"sk-toggleable__label sk-toggleable__label-arrow\">LinearRegression</label><div class=\"sk-toggleable__content\"><pre>LinearRegression()</pre></div></div></div></div></div>"
      ],
      "text/plain": [
       "LinearRegression()"
      ]
     },
     "execution_count": 117,
     "metadata": {},
     "output_type": "execute_result"
    }
   ],
   "source": [
    "model.fit(X_train, y_train)"
   ]
  },
  {
   "cell_type": "code",
   "execution_count": 118,
   "id": "212a3483",
   "metadata": {},
   "outputs": [
    {
     "data": {
      "text/plain": [
       "0.015115934075342174"
      ]
     },
     "execution_count": 118,
     "metadata": {},
     "output_type": "execute_result"
    }
   ],
   "source": [
    "model.score(X_train, y_train)"
   ]
  },
  {
   "cell_type": "code",
   "execution_count": 119,
   "id": "4fcc7395",
   "metadata": {},
   "outputs": [
    {
     "data": {
      "text/plain": [
       "-0.05105229544157486"
      ]
     },
     "execution_count": 119,
     "metadata": {},
     "output_type": "execute_result"
    }
   ],
   "source": [
    "model.score(X_test, y_test)"
   ]
  },
  {
   "cell_type": "markdown",
   "id": "21bb1832",
   "metadata": {},
   "source": [
    "##### regression logistique"
   ]
  },
  {
   "cell_type": "code",
   "execution_count": 125,
   "id": "28a1e35c",
   "metadata": {},
   "outputs": [],
   "source": [
    "from sklearn.linear_model import LogisticRegression"
   ]
  },
  {
   "cell_type": "code",
   "execution_count": 171,
   "id": "c7da4cc9",
   "metadata": {},
   "outputs": [],
   "source": [
    "model2 = LogisticRegression()"
   ]
  },
  {
   "cell_type": "code",
   "execution_count": 208,
   "id": "65d2722b",
   "metadata": {},
   "outputs": [],
   "source": [
    "X = datas.drop([\"Surconsommation\", \"ID\"], axis = 1)"
   ]
  },
  {
   "cell_type": "code",
   "execution_count": 209,
   "id": "2c3ea85d",
   "metadata": {},
   "outputs": [
    {
     "data": {
      "text/html": [
       "<div>\n",
       "<style scoped>\n",
       "    .dataframe tbody tr th:only-of-type {\n",
       "        vertical-align: middle;\n",
       "    }\n",
       "\n",
       "    .dataframe tbody tr th {\n",
       "        vertical-align: top;\n",
       "    }\n",
       "\n",
       "    .dataframe thead th {\n",
       "        text-align: right;\n",
       "    }\n",
       "</style>\n",
       "<table border=\"1\" class=\"dataframe\">\n",
       "  <thead>\n",
       "    <tr style=\"text-align: right;\">\n",
       "      <th></th>\n",
       "      <th>Taille_Famille</th>\n",
       "      <th>Revenu_Annuel</th>\n",
       "      <th>Surface_Habitable</th>\n",
       "      <th>Type_Chauffage</th>\n",
       "      <th>Depense_Energie</th>\n",
       "    </tr>\n",
       "  </thead>\n",
       "  <tbody>\n",
       "    <tr>\n",
       "      <th>0</th>\n",
       "      <td>4</td>\n",
       "      <td>69582.182107</td>\n",
       "      <td>150.955336</td>\n",
       "      <td>0</td>\n",
       "      <td>1192.434092</td>\n",
       "    </tr>\n",
       "    <tr>\n",
       "      <th>1</th>\n",
       "      <td>5</td>\n",
       "      <td>50315.057624</td>\n",
       "      <td>75.433189</td>\n",
       "      <td>2</td>\n",
       "      <td>2582.369677</td>\n",
       "    </tr>\n",
       "    <tr>\n",
       "      <th>2</th>\n",
       "      <td>3</td>\n",
       "      <td>60229.294569</td>\n",
       "      <td>128.011508</td>\n",
       "      <td>2</td>\n",
       "      <td>1632.704212</td>\n",
       "    </tr>\n",
       "    <tr>\n",
       "      <th>3</th>\n",
       "      <td>5</td>\n",
       "      <td>45345.998651</td>\n",
       "      <td>146.688924</td>\n",
       "      <td>0</td>\n",
       "      <td>1594.873781</td>\n",
       "    </tr>\n",
       "    <tr>\n",
       "      <th>4</th>\n",
       "      <td>5</td>\n",
       "      <td>54862.495287</td>\n",
       "      <td>122.468520</td>\n",
       "      <td>1</td>\n",
       "      <td>2100.284599</td>\n",
       "    </tr>\n",
       "  </tbody>\n",
       "</table>\n",
       "</div>"
      ],
      "text/plain": [
       "   Taille_Famille  Revenu_Annuel  Surface_Habitable  Type_Chauffage  \\\n",
       "0               4   69582.182107         150.955336               0   \n",
       "1               5   50315.057624          75.433189               2   \n",
       "2               3   60229.294569         128.011508               2   \n",
       "3               5   45345.998651         146.688924               0   \n",
       "4               5   54862.495287         122.468520               1   \n",
       "\n",
       "   Depense_Energie  \n",
       "0      1192.434092  \n",
       "1      2582.369677  \n",
       "2      1632.704212  \n",
       "3      1594.873781  \n",
       "4      2100.284599  "
      ]
     },
     "execution_count": 209,
     "metadata": {},
     "output_type": "execute_result"
    }
   ],
   "source": [
    "X.head()"
   ]
  },
  {
   "cell_type": "code",
   "execution_count": 210,
   "id": "982a6393",
   "metadata": {},
   "outputs": [],
   "source": [
    "y = datas[\"Surconsommation\"]"
   ]
  },
  {
   "cell_type": "code",
   "execution_count": null,
   "id": "b32cab95",
   "metadata": {},
   "outputs": [],
   "source": []
  },
  {
   "cell_type": "code",
   "execution_count": 211,
   "id": "38c124d1",
   "metadata": {},
   "outputs": [],
   "source": [
    "X_test2, X_train2, y_test2, y_train2 = train_test_split(X, y,)"
   ]
  },
  {
   "cell_type": "code",
   "execution_count": 212,
   "id": "3a442ecc",
   "metadata": {},
   "outputs": [
    {
     "name": "stdout",
     "output_type": "stream",
     "text": [
      "(375, 5)\n",
      "(125, 5)\n",
      "(375,)\n",
      "(125,)\n"
     ]
    }
   ],
   "source": [
    "for i in train_test_split(X,y):\n",
    "    print(i.shape)"
   ]
  },
  {
   "cell_type": "code",
   "execution_count": 194,
   "id": "750b90e7",
   "metadata": {},
   "outputs": [
    {
     "data": {
      "text/plain": [
       "475    0\n",
       "445    0\n",
       "307    0\n",
       "381    1\n",
       "428    0\n",
       "      ..\n",
       "147    0\n",
       "461    0\n",
       "49     1\n",
       "16     0\n",
       "403    0\n",
       "Name: Surconsommation, Length: 125, dtype: int64"
      ]
     },
     "execution_count": 194,
     "metadata": {},
     "output_type": "execute_result"
    }
   ],
   "source": [
    "y_train2"
   ]
  },
  {
   "cell_type": "code",
   "execution_count": 213,
   "id": "fea8b873",
   "metadata": {},
   "outputs": [],
   "source": [
    "y_test2 = np.array(y_test2)\n",
    "y_train2 = np.array(y_train2)"
   ]
  },
  {
   "cell_type": "code",
   "execution_count": 214,
   "id": "d230d39d",
   "metadata": {},
   "outputs": [],
   "source": [
    "y_test2.resize(y_test.shape[0], 1)"
   ]
  },
  {
   "cell_type": "code",
   "execution_count": 215,
   "id": "f57e3a3b",
   "metadata": {},
   "outputs": [],
   "source": [
    "y_train2.resize(y_train2.shape[0], 1)\n"
   ]
  },
  {
   "cell_type": "code",
   "execution_count": 216,
   "id": "032e8660",
   "metadata": {},
   "outputs": [
    {
     "name": "stderr",
     "output_type": "stream",
     "text": [
      "C:\\Users\\injoy\\anaconda3\\Lib\\site-packages\\sklearn\\utils\\validation.py:1184: DataConversionWarning: A column-vector y was passed when a 1d array was expected. Please change the shape of y to (n_samples, ), for example using ravel().\n",
      "  y = column_or_1d(y, warn=True)\n"
     ]
    },
    {
     "data": {
      "text/html": [
       "<style>#sk-container-id-6 {color: black;}#sk-container-id-6 pre{padding: 0;}#sk-container-id-6 div.sk-toggleable {background-color: white;}#sk-container-id-6 label.sk-toggleable__label {cursor: pointer;display: block;width: 100%;margin-bottom: 0;padding: 0.3em;box-sizing: border-box;text-align: center;}#sk-container-id-6 label.sk-toggleable__label-arrow:before {content: \"▸\";float: left;margin-right: 0.25em;color: #696969;}#sk-container-id-6 label.sk-toggleable__label-arrow:hover:before {color: black;}#sk-container-id-6 div.sk-estimator:hover label.sk-toggleable__label-arrow:before {color: black;}#sk-container-id-6 div.sk-toggleable__content {max-height: 0;max-width: 0;overflow: hidden;text-align: left;background-color: #f0f8ff;}#sk-container-id-6 div.sk-toggleable__content pre {margin: 0.2em;color: black;border-radius: 0.25em;background-color: #f0f8ff;}#sk-container-id-6 input.sk-toggleable__control:checked~div.sk-toggleable__content {max-height: 200px;max-width: 100%;overflow: auto;}#sk-container-id-6 input.sk-toggleable__control:checked~label.sk-toggleable__label-arrow:before {content: \"▾\";}#sk-container-id-6 div.sk-estimator input.sk-toggleable__control:checked~label.sk-toggleable__label {background-color: #d4ebff;}#sk-container-id-6 div.sk-label input.sk-toggleable__control:checked~label.sk-toggleable__label {background-color: #d4ebff;}#sk-container-id-6 input.sk-hidden--visually {border: 0;clip: rect(1px 1px 1px 1px);clip: rect(1px, 1px, 1px, 1px);height: 1px;margin: -1px;overflow: hidden;padding: 0;position: absolute;width: 1px;}#sk-container-id-6 div.sk-estimator {font-family: monospace;background-color: #f0f8ff;border: 1px dotted black;border-radius: 0.25em;box-sizing: border-box;margin-bottom: 0.5em;}#sk-container-id-6 div.sk-estimator:hover {background-color: #d4ebff;}#sk-container-id-6 div.sk-parallel-item::after {content: \"\";width: 100%;border-bottom: 1px solid gray;flex-grow: 1;}#sk-container-id-6 div.sk-label:hover label.sk-toggleable__label {background-color: #d4ebff;}#sk-container-id-6 div.sk-serial::before {content: \"\";position: absolute;border-left: 1px solid gray;box-sizing: border-box;top: 0;bottom: 0;left: 50%;z-index: 0;}#sk-container-id-6 div.sk-serial {display: flex;flex-direction: column;align-items: center;background-color: white;padding-right: 0.2em;padding-left: 0.2em;position: relative;}#sk-container-id-6 div.sk-item {position: relative;z-index: 1;}#sk-container-id-6 div.sk-parallel {display: flex;align-items: stretch;justify-content: center;background-color: white;position: relative;}#sk-container-id-6 div.sk-item::before, #sk-container-id-6 div.sk-parallel-item::before {content: \"\";position: absolute;border-left: 1px solid gray;box-sizing: border-box;top: 0;bottom: 0;left: 50%;z-index: -1;}#sk-container-id-6 div.sk-parallel-item {display: flex;flex-direction: column;z-index: 1;position: relative;background-color: white;}#sk-container-id-6 div.sk-parallel-item:first-child::after {align-self: flex-end;width: 50%;}#sk-container-id-6 div.sk-parallel-item:last-child::after {align-self: flex-start;width: 50%;}#sk-container-id-6 div.sk-parallel-item:only-child::after {width: 0;}#sk-container-id-6 div.sk-dashed-wrapped {border: 1px dashed gray;margin: 0 0.4em 0.5em 0.4em;box-sizing: border-box;padding-bottom: 0.4em;background-color: white;}#sk-container-id-6 div.sk-label label {font-family: monospace;font-weight: bold;display: inline-block;line-height: 1.2em;}#sk-container-id-6 div.sk-label-container {text-align: center;}#sk-container-id-6 div.sk-container {/* jupyter's `normalize.less` sets `[hidden] { display: none; }` but bootstrap.min.css set `[hidden] { display: none !important; }` so we also need the `!important` here to be able to override the default hidden behavior on the sphinx rendered scikit-learn.org. See: https://github.com/scikit-learn/scikit-learn/issues/21755 */display: inline-block !important;position: relative;}#sk-container-id-6 div.sk-text-repr-fallback {display: none;}</style><div id=\"sk-container-id-6\" class=\"sk-top-container\"><div class=\"sk-text-repr-fallback\"><pre>LogisticRegression()</pre><b>In a Jupyter environment, please rerun this cell to show the HTML representation or trust the notebook. <br />On GitHub, the HTML representation is unable to render, please try loading this page with nbviewer.org.</b></div><div class=\"sk-container\" hidden><div class=\"sk-item\"><div class=\"sk-estimator sk-toggleable\"><input class=\"sk-toggleable__control sk-hidden--visually\" id=\"sk-estimator-id-6\" type=\"checkbox\" checked><label for=\"sk-estimator-id-6\" class=\"sk-toggleable__label sk-toggleable__label-arrow\">LogisticRegression</label><div class=\"sk-toggleable__content\"><pre>LogisticRegression()</pre></div></div></div></div></div>"
      ],
      "text/plain": [
       "LogisticRegression()"
      ]
     },
     "execution_count": 216,
     "metadata": {},
     "output_type": "execute_result"
    }
   ],
   "source": [
    "model2.fit(X_train2, y_train2)"
   ]
  },
  {
   "cell_type": "code",
   "execution_count": 218,
   "id": "dddbf8a5",
   "metadata": {},
   "outputs": [],
   "source": [
    "#model2.score(X_test2, y_test2)"
   ]
  },
  {
   "cell_type": "code",
   "execution_count": 221,
   "id": "9875c36f",
   "metadata": {},
   "outputs": [
    {
     "data": {
      "text/plain": [
       "<matplotlib.collections.PathCollection at 0x14b7071ccd0>"
      ]
     },
     "execution_count": 221,
     "metadata": {},
     "output_type": "execute_result"
    },
    {
     "data": {
      "image/png": "[encoded data removed]",
      "text/plain": [
       "<Figure size 640x480 with 1 Axes>"
      ]
     },
     "metadata": {},
     "output_type": "display_data"
    }
   ],
   "source": [
    "plt.scatter(datas[\"Depense_Energie\"], datas[\"Surconsommation\"])"
   ]
  },
  {
   "cell_type": "code",
   "execution_count": 226,
   "id": "d7f3926e",
   "metadata": {},
   "outputs": [],
   "source": [
    "X = np.array(datas[\"Depense_Energie\"])\n",
    "y = np.array(datas[\"Surconsommation\"])\n"
   ]
  },
  {
   "cell_type": "code",
   "execution_count": null,
   "id": "3f278861",
   "metadata": {},
   "outputs": [],
   "source": []
  },
  {
   "cell_type": "code",
   "execution_count": 229,
   "id": "4bde8a2c",
   "metadata": {},
   "outputs": [],
   "source": [
    "X.resize(X.shape[0], 1)\n",
    "y.resize(y.shape[0], 1)"
   ]
  },
  {
   "cell_type": "code",
   "execution_count": 231,
   "id": "0d96c2ee",
   "metadata": {},
   "outputs": [
    {
     "name": "stderr",
     "output_type": "stream",
     "text": [
      "C:\\Users\\injoy\\anaconda3\\Lib\\site-packages\\sklearn\\utils\\validation.py:1184: DataConversionWarning: A column-vector y was passed when a 1d array was expected. Please change the shape of y to (n_samples, ), for example using ravel().\n",
      "  y = column_or_1d(y, warn=True)\n"
     ]
    },
    {
     "data": {
      "text/html": [
       "<style>#sk-container-id-7 {color: black;}#sk-container-id-7 pre{padding: 0;}#sk-container-id-7 div.sk-toggleable {background-color: white;}#sk-container-id-7 label.sk-toggleable__label {cursor: pointer;display: block;width: 100%;margin-bottom: 0;padding: 0.3em;box-sizing: border-box;text-align: center;}#sk-container-id-7 label.sk-toggleable__label-arrow:before {content: \"▸\";float: left;margin-right: 0.25em;color: #696969;}#sk-container-id-7 label.sk-toggleable__label-arrow:hover:before {color: black;}#sk-container-id-7 div.sk-estimator:hover label.sk-toggleable__label-arrow:before {color: black;}#sk-container-id-7 div.sk-toggleable__content {max-height: 0;max-width: 0;overflow: hidden;text-align: left;background-color: #f0f8ff;}#sk-container-id-7 div.sk-toggleable__content pre {margin: 0.2em;color: black;border-radius: 0.25em;background-color: #f0f8ff;}#sk-container-id-7 input.sk-toggleable__control:checked~div.sk-toggleable__content {max-height: 200px;max-width: 100%;overflow: auto;}#sk-container-id-7 input.sk-toggleable__control:checked~label.sk-toggleable__label-arrow:before {content: \"▾\";}#sk-container-id-7 div.sk-estimator input.sk-toggleable__control:checked~label.sk-toggleable__label {background-color: #d4ebff;}#sk-container-id-7 div.sk-label input.sk-toggleable__control:checked~label.sk-toggleable__label {background-color: #d4ebff;}#sk-container-id-7 input.sk-hidden--visually {border: 0;clip: rect(1px 1px 1px 1px);clip: rect(1px, 1px, 1px, 1px);height: 1px;margin: -1px;overflow: hidden;padding: 0;position: absolute;width: 1px;}#sk-container-id-7 div.sk-estimator {font-family: monospace;background-color: #f0f8ff;border: 1px dotted black;border-radius: 0.25em;box-sizing: border-box;margin-bottom: 0.5em;}#sk-container-id-7 div.sk-estimator:hover {background-color: #d4ebff;}#sk-container-id-7 div.sk-parallel-item::after {content: \"\";width: 100%;border-bottom: 1px solid gray;flex-grow: 1;}#sk-container-id-7 div.sk-label:hover label.sk-toggleable__label {background-color: #d4ebff;}#sk-container-id-7 div.sk-serial::before {content: \"\";position: absolute;border-left: 1px solid gray;box-sizing: border-box;top: 0;bottom: 0;left: 50%;z-index: 0;}#sk-container-id-7 div.sk-serial {display: flex;flex-direction: column;align-items: center;background-color: white;padding-right: 0.2em;padding-left: 0.2em;position: relative;}#sk-container-id-7 div.sk-item {position: relative;z-index: 1;}#sk-container-id-7 div.sk-parallel {display: flex;align-items: stretch;justify-content: center;background-color: white;position: relative;}#sk-container-id-7 div.sk-item::before, #sk-container-id-7 div.sk-parallel-item::before {content: \"\";position: absolute;border-left: 1px solid gray;box-sizing: border-box;top: 0;bottom: 0;left: 50%;z-index: -1;}#sk-container-id-7 div.sk-parallel-item {display: flex;flex-direction: column;z-index: 1;position: relative;background-color: white;}#sk-container-id-7 div.sk-parallel-item:first-child::after {align-self: flex-end;width: 50%;}#sk-container-id-7 div.sk-parallel-item:last-child::after {align-self: flex-start;width: 50%;}#sk-container-id-7 div.sk-parallel-item:only-child::after {width: 0;}#sk-container-id-7 div.sk-dashed-wrapped {border: 1px dashed gray;margin: 0 0.4em 0.5em 0.4em;box-sizing: border-box;padding-bottom: 0.4em;background-color: white;}#sk-container-id-7 div.sk-label label {font-family: monospace;font-weight: bold;display: inline-block;line-height: 1.2em;}#sk-container-id-7 div.sk-label-container {text-align: center;}#sk-container-id-7 div.sk-container {/* jupyter's `normalize.less` sets `[hidden] { display: none; }` but bootstrap.min.css set `[hidden] { display: none !important; }` so we also need the `!important` here to be able to override the default hidden behavior on the sphinx rendered scikit-learn.org. See: https://github.com/scikit-learn/scikit-learn/issues/21755 */display: inline-block !important;position: relative;}#sk-container-id-7 div.sk-text-repr-fallback {display: none;}</style><div id=\"sk-container-id-7\" class=\"sk-top-container\"><div class=\"sk-text-repr-fallback\"><pre>LogisticRegression()</pre><b>In a Jupyter environment, please rerun this cell to show the HTML representation or trust the notebook. <br />On GitHub, the HTML representation is unable to render, please try loading this page with nbviewer.org.</b></div><div class=\"sk-container\" hidden><div class=\"sk-item\"><div class=\"sk-estimator sk-toggleable\"><input class=\"sk-toggleable__control sk-hidden--visually\" id=\"sk-estimator-id-7\" type=\"checkbox\" checked><label for=\"sk-estimator-id-7\" class=\"sk-toggleable__label sk-toggleable__label-arrow\">LogisticRegression</label><div class=\"sk-toggleable__content\"><pre>LogisticRegression()</pre></div></div></div></div></div>"
      ],
      "text/plain": [
       "LogisticRegression()"
      ]
     },
     "execution_count": 231,
     "metadata": {},
     "output_type": "execute_result"
    }
   ],
   "source": [
    "#model2.fit(np.array(X_train2[\"Depense_Energie\"]).resize(X_train2[\"Depense_Energie\"].shape[0],1) , y_train2 )\n",
    "model2.fit(X, y)"
   ]
  },
  {
   "cell_type": "code",
   "execution_count": 232,
   "id": "c1953b0e",
   "metadata": {},
   "outputs": [],
   "source": [
    "X_test, X_train, y_test, y_train = train_test_split(X, y)"
   ]
  },
  {
   "cell_type": "code",
   "execution_count": 233,
   "id": "d6f7342d",
   "metadata": {},
   "outputs": [
    {
     "name": "stderr",
     "output_type": "stream",
     "text": [
      "C:\\Users\\injoy\\anaconda3\\Lib\\site-packages\\sklearn\\utils\\validation.py:1184: DataConversionWarning: A column-vector y was passed when a 1d array was expected. Please change the shape of y to (n_samples, ), for example using ravel().\n",
      "  y = column_or_1d(y, warn=True)\n"
     ]
    },
    {
     "data": {
      "text/html": [
       "<style>#sk-container-id-8 {color: black;}#sk-container-id-8 pre{padding: 0;}#sk-container-id-8 div.sk-toggleable {background-color: white;}#sk-container-id-8 label.sk-toggleable__label {cursor: pointer;display: block;width: 100%;margin-bottom: 0;padding: 0.3em;box-sizing: border-box;text-align: center;}#sk-container-id-8 label.sk-toggleable__label-arrow:before {content: \"▸\";float: left;margin-right: 0.25em;color: #696969;}#sk-container-id-8 label.sk-toggleable__label-arrow:hover:before {color: black;}#sk-container-id-8 div.sk-estimator:hover label.sk-toggleable__label-arrow:before {color: black;}#sk-container-id-8 div.sk-toggleable__content {max-height: 0;max-width: 0;overflow: hidden;text-align: left;background-color: #f0f8ff;}#sk-container-id-8 div.sk-toggleable__content pre {margin: 0.2em;color: black;border-radius: 0.25em;background-color: #f0f8ff;}#sk-container-id-8 input.sk-toggleable__control:checked~div.sk-toggleable__content {max-height: 200px;max-width: 100%;overflow: auto;}#sk-container-id-8 input.sk-toggleable__control:checked~label.sk-toggleable__label-arrow:before {content: \"▾\";}#sk-container-id-8 div.sk-estimator input.sk-toggleable__control:checked~label.sk-toggleable__label {background-color: #d4ebff;}#sk-container-id-8 div.sk-label input.sk-toggleable__control:checked~label.sk-toggleable__label {background-color: #d4ebff;}#sk-container-id-8 input.sk-hidden--visually {border: 0;clip: rect(1px 1px 1px 1px);clip: rect(1px, 1px, 1px, 1px);height: 1px;margin: -1px;overflow: hidden;padding: 0;position: absolute;width: 1px;}#sk-container-id-8 div.sk-estimator {font-family: monospace;background-color: #f0f8ff;border: 1px dotted black;border-radius: 0.25em;box-sizing: border-box;margin-bottom: 0.5em;}#sk-container-id-8 div.sk-estimator:hover {background-color: #d4ebff;}#sk-container-id-8 div.sk-parallel-item::after {content: \"\";width: 100%;border-bottom: 1px solid gray;flex-grow: 1;}#sk-container-id-8 div.sk-label:hover label.sk-toggleable__label {background-color: #d4ebff;}#sk-container-id-8 div.sk-serial::before {content: \"\";position: absolute;border-left: 1px solid gray;box-sizing: border-box;top: 0;bottom: 0;left: 50%;z-index: 0;}#sk-container-id-8 div.sk-serial {display: flex;flex-direction: column;align-items: center;background-color: white;padding-right: 0.2em;padding-left: 0.2em;position: relative;}#sk-container-id-8 div.sk-item {position: relative;z-index: 1;}#sk-container-id-8 div.sk-parallel {display: flex;align-items: stretch;justify-content: center;background-color: white;position: relative;}#sk-container-id-8 div.sk-item::before, #sk-container-id-8 div.sk-parallel-item::before {content: \"\";position: absolute;border-left: 1px solid gray;box-sizing: border-box;top: 0;bottom: 0;left: 50%;z-index: -1;}#sk-container-id-8 div.sk-parallel-item {display: flex;flex-direction: column;z-index: 1;position: relative;background-color: white;}#sk-container-id-8 div.sk-parallel-item:first-child::after {align-self: flex-end;width: 50%;}#sk-container-id-8 div.sk-parallel-item:last-child::after {align-self: flex-start;width: 50%;}#sk-container-id-8 div.sk-parallel-item:only-child::after {width: 0;}#sk-container-id-8 div.sk-dashed-wrapped {border: 1px dashed gray;margin: 0 0.4em 0.5em 0.4em;box-sizing: border-box;padding-bottom: 0.4em;background-color: white;}#sk-container-id-8 div.sk-label label {font-family: monospace;font-weight: bold;display: inline-block;line-height: 1.2em;}#sk-container-id-8 div.sk-label-container {text-align: center;}#sk-container-id-8 div.sk-container {/* jupyter's `normalize.less` sets `[hidden] { display: none; }` but bootstrap.min.css set `[hidden] { display: none !important; }` so we also need the `!important` here to be able to override the default hidden behavior on the sphinx rendered scikit-learn.org. See: https://github.com/scikit-learn/scikit-learn/issues/21755 */display: inline-block !important;position: relative;}#sk-container-id-8 div.sk-text-repr-fallback {display: none;}</style><div id=\"sk-container-id-8\" class=\"sk-top-container\"><div class=\"sk-text-repr-fallback\"><pre>LogisticRegression()</pre><b>In a Jupyter environment, please rerun this cell to show the HTML representation or trust the notebook. <br />On GitHub, the HTML representation is unable to render, please try loading this page with nbviewer.org.</b></div><div class=\"sk-container\" hidden><div class=\"sk-item\"><div class=\"sk-estimator sk-toggleable\"><input class=\"sk-toggleable__control sk-hidden--visually\" id=\"sk-estimator-id-8\" type=\"checkbox\" checked><label for=\"sk-estimator-id-8\" class=\"sk-toggleable__label sk-toggleable__label-arrow\">LogisticRegression</label><div class=\"sk-toggleable__content\"><pre>LogisticRegression()</pre></div></div></div></div></div>"
      ],
      "text/plain": [
       "LogisticRegression()"
      ]
     },
     "execution_count": 233,
     "metadata": {},
     "output_type": "execute_result"
    }
   ],
   "source": [
    "model2.fit(X_train, y_train)"
   ]
  },
  {
   "cell_type": "code",
   "execution_count": 234,
   "id": "2a3d4bd1",
   "metadata": {},
   "outputs": [
    {
     "data": {
      "text/plain": [
       "1.0"
      ]
     },
     "execution_count": 234,
     "metadata": {},
     "output_type": "execute_result"
    }
   ],
   "source": [
    "model2.score(X_test, y_test)"
   ]
  },
  {
   "cell_type": "markdown",
   "id": "c4518cf7",
   "metadata": {},
   "source": [
    "##### Les paramètres de la sigmoïdes"
   ]
  },
  {
   "cell_type": "code",
   "execution_count": 236,
   "id": "be66d852",
   "metadata": {},
   "outputs": [
    {
     "name": "stdout",
     "output_type": "stream",
     "text": [
      "[[0.56873922]]\n",
      "[-1421.75919413]\n"
     ]
    }
   ],
   "source": [
    "print(model2.coef_)\n",
    "print(model2.intercept_)"
   ]
  },
  {
   "cell_type": "code",
   "execution_count": 241,
   "id": "977bf506",
   "metadata": {},
   "outputs": [
    {
     "ename": "IndexError",
     "evalue": "invalid index to scalar variable.",
     "output_type": "error",
     "traceback": [
      "\u001b[1;31m---------------------------------------------------------------------------\u001b[0m",
      "\u001b[1;31mIndexError\u001b[0m                                Traceback (most recent call last)",
      "Cell \u001b[1;32mIn[241], line 3\u001b[0m\n\u001b[0;32m      1\u001b[0m abscisse \u001b[38;5;241m=\u001b[39m np\u001b[38;5;241m.\u001b[39mlinspace(\u001b[38;5;241m500\u001b[39m, \u001b[38;5;241m4000\u001b[39m , \u001b[38;5;241m500\u001b[39m)\n\u001b[0;32m      2\u001b[0m plt\u001b[38;5;241m.\u001b[39mscatter(X, y)\n\u001b[1;32m----> 3\u001b[0m plt\u001b[38;5;241m.\u001b[39mplot(abscisse, \u001b[38;5;241m1\u001b[39m\u001b[38;5;241m/\u001b[39m(\u001b[38;5;241m1\u001b[39m\u001b[38;5;241m+\u001b[39m np\u001b[38;5;241m.\u001b[39mexp(\u001b[38;5;241m-\u001b[39mmodel\u001b[38;5;241m.\u001b[39mcoef_[\u001b[38;5;241m0\u001b[39m][\u001b[38;5;241m0\u001b[39m]\u001b[38;5;241m*\u001b[39mabscisse \u001b[38;5;241m+\u001b[39m model\u001b[38;5;241m.\u001b[39mintercept_[\u001b[38;5;241m0\u001b[39m])), color \u001b[38;5;241m=\u001b[39m\u001b[38;5;124m'\u001b[39m\u001b[38;5;124mr\u001b[39m\u001b[38;5;124m'\u001b[39m)\n",
      "\u001b[1;31mIndexError\u001b[0m: invalid index to scalar variable."
     ]
    },
    {
     "data": {
      "image/png": "[encoded data removed]",
      "text/plain": [
       "<Figure size 640x480 with 1 Axes>"
      ]
     },
     "metadata": {},
     "output_type": "display_data"
    }
   ],
   "source": [
    "abscisse = np.linspace(500, 4000 , 500)\n",
    "plt.scatter(X, y)\n",
    "plt.plot(abscisse, 1/(1+ np.exp(-model.coef_[0][0]*abscisse + model.intercept_[0])), color ='r')"
   ]
  },
  {
   "cell_type": "code",
   "execution_count": null,
   "id": "e3787682",
   "metadata": {},
   "outputs": [],
   "source": []
  }
 ],
 "metadata": {
  "kernelspec": {
   "display_name": "Python 3 (ipykernel)",
   "language": "python",
   "name": "python3"
  },
  "language_info": {
   "codemirror_mode": {
    "name": "ipython",
    "version": 3
   },
   "file_extension": ".py",
   "mimetype": "text/x-python",
   "name": "python",
   "nbconvert_exporter": "python",
   "pygments_lexer": "ipython3",
   "version": "3.11.5"
  }
 },
 "nbformat": 4,
 "nbformat_minor": 5
}
