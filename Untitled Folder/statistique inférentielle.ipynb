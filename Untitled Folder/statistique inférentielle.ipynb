{
 "cells": [
  {
   "cell_type": "code",
   "execution_count": 1,
   "id": "14699e29",
   "metadata": {},
   "outputs": [],
   "source": [
    "import pandas as pd\n",
    "import numpy as np\n",
    "import math"
   ]
  },
  {
   "cell_type": "code",
   "execution_count": 26,
   "id": "e8c08589",
   "metadata": {},
   "outputs": [
    {
     "data": {
      "text/html": [
       "<div>\n",
       "<style scoped>\n",
       "    .dataframe tbody tr th:only-of-type {\n",
       "        vertical-align: middle;\n",
       "    }\n",
       "\n",
       "    .dataframe tbody tr th {\n",
       "        vertical-align: top;\n",
       "    }\n",
       "\n",
       "    .dataframe thead th {\n",
       "        text-align: right;\n",
       "    }\n",
       "</style>\n",
       "<table border=\"1\" class=\"dataframe\">\n",
       "  <thead>\n",
       "    <tr style=\"text-align: right;\">\n",
       "      <th></th>\n",
       "      <th>conso</th>\n",
       "    </tr>\n",
       "  </thead>\n",
       "  <tbody>\n",
       "    <tr>\n",
       "      <th>123</th>\n",
       "      <td>30.05</td>\n",
       "    </tr>\n",
       "    <tr>\n",
       "      <th>124</th>\n",
       "      <td>26.85</td>\n",
       "    </tr>\n",
       "    <tr>\n",
       "      <th>125</th>\n",
       "      <td>33.28</td>\n",
       "    </tr>\n",
       "    <tr>\n",
       "      <th>126</th>\n",
       "      <td>32.10</td>\n",
       "    </tr>\n",
       "    <tr>\n",
       "      <th>127</th>\n",
       "      <td>31.88</td>\n",
       "    </tr>\n",
       "  </tbody>\n",
       "</table>\n",
       "</div>"
      ],
      "text/plain": [
       "     conso\n",
       "123  30.05\n",
       "124  26.85\n",
       "125  33.28\n",
       "126  32.10\n",
       "127  31.88"
      ]
     },
     "execution_count": 26,
     "metadata": {},
     "output_type": "execute_result"
    }
   ],
   "source": [
    "essence = pd.read_csv(\"essence.txt\")\n"
   ]
  },
  {
   "cell_type": "code",
   "execution_count": 27,
   "id": "2d89d154",
   "metadata": {},
   "outputs": [
    {
     "data": {
      "text/html": [
       "<div>\n",
       "<style scoped>\n",
       "    .dataframe tbody tr th:only-of-type {\n",
       "        vertical-align: middle;\n",
       "    }\n",
       "\n",
       "    .dataframe tbody tr th {\n",
       "        vertical-align: top;\n",
       "    }\n",
       "\n",
       "    .dataframe thead th {\n",
       "        text-align: right;\n",
       "    }\n",
       "</style>\n",
       "<table border=\"1\" class=\"dataframe\">\n",
       "  <thead>\n",
       "    <tr style=\"text-align: right;\">\n",
       "      <th></th>\n",
       "      <th>conso</th>\n",
       "    </tr>\n",
       "  </thead>\n",
       "  <tbody>\n",
       "    <tr>\n",
       "      <th>count</th>\n",
       "      <td>128.000000</td>\n",
       "    </tr>\n",
       "    <tr>\n",
       "      <th>mean</th>\n",
       "      <td>31.449453</td>\n",
       "    </tr>\n",
       "    <tr>\n",
       "      <th>std</th>\n",
       "      <td>2.159817</td>\n",
       "    </tr>\n",
       "    <tr>\n",
       "      <th>min</th>\n",
       "      <td>26.230000</td>\n",
       "    </tr>\n",
       "    <tr>\n",
       "      <th>25%</th>\n",
       "      <td>30.195000</td>\n",
       "    </tr>\n",
       "    <tr>\n",
       "      <th>50%</th>\n",
       "      <td>31.550000</td>\n",
       "    </tr>\n",
       "    <tr>\n",
       "      <th>75%</th>\n",
       "      <td>32.992500</td>\n",
       "    </tr>\n",
       "    <tr>\n",
       "      <th>max</th>\n",
       "      <td>36.070000</td>\n",
       "    </tr>\n",
       "  </tbody>\n",
       "</table>\n",
       "</div>"
      ],
      "text/plain": [
       "            conso\n",
       "count  128.000000\n",
       "mean    31.449453\n",
       "std      2.159817\n",
       "min     26.230000\n",
       "25%     30.195000\n",
       "50%     31.550000\n",
       "75%     32.992500\n",
       "max     36.070000"
      ]
     },
     "execution_count": 27,
     "metadata": {},
     "output_type": "execute_result"
    }
   ],
   "source": [
    "essence.describe()"
   ]
  },
  {
   "cell_type": "code",
   "execution_count": 5,
   "id": "4e6d0ef4",
   "metadata": {},
   "outputs": [
    {
     "data": {
      "text/plain": [
       "31.45"
      ]
     },
     "execution_count": 5,
     "metadata": {},
     "output_type": "execute_result"
    }
   ],
   "source": [
    "xbar = np.mean(essence[\"conso\"])\n",
    "xbar = round(xbar,2)\n",
    "xbar"
   ]
  },
  {
   "cell_type": "code",
   "execution_count": 14,
   "id": "cc9dcd59",
   "metadata": {},
   "outputs": [],
   "source": [
    "EcT = np.std(essence[\"conso\"], ddof=1)   # ddof représente le dégré de liberté de la moyenne,\n",
    "EcT = round(EcT, 2)                                 # la division se fait par N-ddof où N représente\n",
    "                                        # Le nombre d'éléments"
   ]
  },
  {
   "cell_type": "code",
   "execution_count": 15,
   "id": "fcf560e1",
   "metadata": {},
   "outputs": [
    {
     "data": {
      "text/plain": [
       "2.16"
      ]
     },
     "execution_count": 15,
     "metadata": {},
     "output_type": "execute_result"
    }
   ],
   "source": [
    "EcT  \n",
    "        "
   ]
  },
  {
   "cell_type": "code",
   "execution_count": 17,
   "id": "dca9034e",
   "metadata": {},
   "outputs": [
    {
     "data": {
      "text/plain": [
       "4.66"
      ]
     },
     "execution_count": 17,
     "metadata": {},
     "output_type": "execute_result"
    }
   ],
   "source": [
    "vriance = np.var(essence[\"conso\"], ddof = 1)\n",
    "vriance = round(vriance, 2)\n",
    "vriance"
   ]
  },
  {
   "cell_type": "markdown",
   "id": "c90c6128",
   "metadata": {},
   "source": [
    "#### Si l'on souhaite obtenir la variance biaisée, on peut l'obtenir ainsi:"
   ]
  },
  {
   "cell_type": "code",
   "execution_count": 19,
   "id": "aee5d995",
   "metadata": {},
   "outputs": [
    {
     "data": {
      "text/plain": [
       "4.63"
      ]
     },
     "execution_count": 19,
     "metadata": {},
     "output_type": "execute_result"
    }
   ],
   "source": [
    "v = np.var(essence[\"conso\"])\n",
    "v = round(v, 2)\n",
    "v"
   ]
  },
  {
   "cell_type": "markdown",
   "id": "e4c18b46",
   "metadata": {},
   "source": [
    "#### On peut visualiser l'histogramme"
   ]
  },
  {
   "cell_type": "code",
   "execution_count": 22,
   "id": "0208b99f",
   "metadata": {},
   "outputs": [],
   "source": [
    "import matplotlib.pyplot as plt\n",
    "%matplotlib inline \n",
    "# La commande \"%matplotlib\" configure la bibliothèque que vous allez utiliser pour dessiner le graphique\n"
   ]
  },
  {
   "cell_type": "code",
   "execution_count": 25,
   "id": "1d190bb0",
   "metadata": {},
   "outputs": [
    {
     "data": {
      "image/png": "[encoded data removed]",
      "text/plain": [
       "<Figure size 640x480 with 1 Axes>"
      ]
     },
     "metadata": {},
     "output_type": "display_data"
    }
   ],
   "source": [
    "plt.hist(essence[\"conso\"], bins = range(26,38))\n",
    "plt.title(\"Histogramme\");"
   ]
  },
  {
   "cell_type": "markdown",
   "id": "3fe742bb",
   "metadata": {},
   "source": [
    "#### on peut visualiser sur cet histogramme la moyenne empirique :"
   ]
  },
  {
   "cell_type": "code",
   "execution_count": 32,
   "id": "c4337332",
   "metadata": {},
   "outputs": [
    {
     "data": {
      "text/plain": [
       "<matplotlib.legend.Legend at 0x283d53a0210>"
      ]
     },
     "execution_count": 32,
     "metadata": {},
     "output_type": "execute_result"
    },
    {
     "data": {
      "image/png": "[encoded data removed]",
      "text/plain": [
       "<Figure size 640x480 with 1 Axes>"
      ]
     },
     "metadata": {},
     "output_type": "display_data"
    }
   ],
   "source": [
    "mu0 = 31\n",
    "plt.hist(essence[\"conso\"], bins = range(26, 38))\n",
    "plt.title(\"Histogramme\")\n",
    "plt.axvline(xbar, color = 'r', linewidth = 2);\n",
    "plt.axvline(mu0, color ='b', linewidth = 2)\n",
    "plt.legend(handles = [mlines.Line2D([], [], color= 'red', markersize = 15, label =\"Moyenne empirique\"), \n",
    "                      mlines.Line2D([],[], color=\"blue\", markersize = 15, label = u\"Seuil testé\")])"
   ]
  },
  {
   "cell_type": "code",
   "execution_count": 44,
   "id": "19fc9cad",
   "metadata": {},
   "outputs": [],
   "source": [
    "import matplotlib.lines as mlines\n",
    "import matplotlib.mlab as mlab\n",
    "from scipy.stats import norm"
   ]
  },
  {
   "cell_type": "code",
   "execution_count": 51,
   "id": "c3b9da0b",
   "metadata": {},
   "outputs": [
    {
     "data": {
      "image/png": "[encoded data removed]",
      "text/plain": [
       "<Figure size 640x480 with 1 Axes>"
      ]
     },
     "metadata": {},
     "output_type": "display_data"
    }
   ],
   "source": [
    "fig, ax = plt.subplots()\n",
    "#n, bins, patches = ax.hist(essence[\"conso\"], normed = True, bins= range(26, 38))\n",
    "bins = np.arange(26,37, 0.1)\n",
    "y = norm.pdf(bins, xbar, EcT)*100\n",
    "ax.plot(bins, y, '--', c = \"orange\")\n",
    "ax.set_xlabel(\"Smarts\")\n",
    "ax.set_title(u\"Histogramme et densité normale\");"
   ]
  },
  {
   "cell_type": "code",
   "execution_count": 67,
   "id": "e48770b3",
   "metadata": {},
   "outputs": [],
   "source": [
    "norm.pdf?"
   ]
  },
  {
   "cell_type": "markdown",
   "id": "7c136787",
   "metadata": {},
   "source": [
    "#### On constate que l'écart entre l'histogramme, primo-estimation de la densité de probabilité, et la densité gaussiènne sont plutôt proches"
   ]
  },
  {
   "cell_type": "markdown",
   "id": "59df509b",
   "metadata": {},
   "source": [
    "## Screencast 2 : IC sur Guerison"
   ]
  },
  {
   "cell_type": "markdown",
   "id": "9f39637b",
   "metadata": {},
   "source": [
    "##### On importe le fichier contenant les guérisons ou non-guérisons: "
   ]
  },
  {
   "cell_type": "code",
   "execution_count": 52,
   "id": "cfdc0328",
   "metadata": {},
   "outputs": [],
   "source": [
    "guerison = pd.read_csv(\"guerison.txt\")"
   ]
  },
  {
   "cell_type": "code",
   "execution_count": 53,
   "id": "bba997df",
   "metadata": {},
   "outputs": [
    {
     "data": {
      "text/html": [
       "<div>\n",
       "<style scoped>\n",
       "    .dataframe tbody tr th:only-of-type {\n",
       "        vertical-align: middle;\n",
       "    }\n",
       "\n",
       "    .dataframe tbody tr th {\n",
       "        vertical-align: top;\n",
       "    }\n",
       "\n",
       "    .dataframe thead th {\n",
       "        text-align: right;\n",
       "    }\n",
       "</style>\n",
       "<table border=\"1\" class=\"dataframe\">\n",
       "  <thead>\n",
       "    <tr style=\"text-align: right;\">\n",
       "      <th></th>\n",
       "      <th>guerison</th>\n",
       "    </tr>\n",
       "  </thead>\n",
       "  <tbody>\n",
       "    <tr>\n",
       "      <th>0</th>\n",
       "      <td>1</td>\n",
       "    </tr>\n",
       "    <tr>\n",
       "      <th>1</th>\n",
       "      <td>0</td>\n",
       "    </tr>\n",
       "    <tr>\n",
       "      <th>2</th>\n",
       "      <td>1</td>\n",
       "    </tr>\n",
       "    <tr>\n",
       "      <th>3</th>\n",
       "      <td>1</td>\n",
       "    </tr>\n",
       "    <tr>\n",
       "      <th>4</th>\n",
       "      <td>1</td>\n",
       "    </tr>\n",
       "  </tbody>\n",
       "</table>\n",
       "</div>"
      ],
      "text/plain": [
       "   guerison\n",
       "0         1\n",
       "1         0\n",
       "2         1\n",
       "3         1\n",
       "4         1"
      ]
     },
     "execution_count": 53,
     "metadata": {},
     "output_type": "execute_result"
    }
   ],
   "source": [
    "guerison.head()"
   ]
  },
  {
   "cell_type": "code",
   "execution_count": 54,
   "id": "aa664462",
   "metadata": {},
   "outputs": [
    {
     "data": {
      "text/html": [
       "<div>\n",
       "<style scoped>\n",
       "    .dataframe tbody tr th:only-of-type {\n",
       "        vertical-align: middle;\n",
       "    }\n",
       "\n",
       "    .dataframe tbody tr th {\n",
       "        vertical-align: top;\n",
       "    }\n",
       "\n",
       "    .dataframe thead th {\n",
       "        text-align: right;\n",
       "    }\n",
       "</style>\n",
       "<table border=\"1\" class=\"dataframe\">\n",
       "  <thead>\n",
       "    <tr style=\"text-align: right;\">\n",
       "      <th></th>\n",
       "      <th>guerison</th>\n",
       "    </tr>\n",
       "  </thead>\n",
       "  <tbody>\n",
       "    <tr>\n",
       "      <th>count</th>\n",
       "      <td>216.000000</td>\n",
       "    </tr>\n",
       "    <tr>\n",
       "      <th>mean</th>\n",
       "      <td>0.773148</td>\n",
       "    </tr>\n",
       "    <tr>\n",
       "      <th>std</th>\n",
       "      <td>0.419769</td>\n",
       "    </tr>\n",
       "    <tr>\n",
       "      <th>min</th>\n",
       "      <td>0.000000</td>\n",
       "    </tr>\n",
       "    <tr>\n",
       "      <th>25%</th>\n",
       "      <td>1.000000</td>\n",
       "    </tr>\n",
       "    <tr>\n",
       "      <th>50%</th>\n",
       "      <td>1.000000</td>\n",
       "    </tr>\n",
       "    <tr>\n",
       "      <th>75%</th>\n",
       "      <td>1.000000</td>\n",
       "    </tr>\n",
       "    <tr>\n",
       "      <th>max</th>\n",
       "      <td>1.000000</td>\n",
       "    </tr>\n",
       "  </tbody>\n",
       "</table>\n",
       "</div>"
      ],
      "text/plain": [
       "         guerison\n",
       "count  216.000000\n",
       "mean     0.773148\n",
       "std      0.419769\n",
       "min      0.000000\n",
       "25%      1.000000\n",
       "50%      1.000000\n",
       "75%      1.000000\n",
       "max      1.000000"
      ]
     },
     "execution_count": 54,
     "metadata": {},
     "output_type": "execute_result"
    }
   ],
   "source": [
    "guerison.describe()"
   ]
  },
  {
   "cell_type": "markdown",
   "id": "d6182f6b",
   "metadata": {},
   "source": [
    "###### Estimation du taux de guerison théorique p :"
   ]
  },
  {
   "cell_type": "code",
   "execution_count": 60,
   "id": "52228a6b",
   "metadata": {
    "scrolled": true
   },
   "outputs": [
    {
     "data": {
      "text/plain": [
       "0.7731481481481481"
      ]
     },
     "execution_count": 60,
     "metadata": {},
     "output_type": "execute_result"
    }
   ],
   "source": [
    "n_guerison = len(guerison)\n",
    "n_guerison_gueris = sum(guerison[guerison[\"guerison\"] ==1][\"guerison\"])\n",
    "p_estim = n_guerison_gueris/float(n_guerison)\n",
    "p_estim"
   ]
  },
  {
   "cell_type": "code",
   "execution_count": 62,
   "id": "bf1cb967",
   "metadata": {},
   "outputs": [
    {
     "data": {
      "text/plain": [
       "0.72"
      ]
     },
     "execution_count": 62,
     "metadata": {},
     "output_type": "execute_result"
    }
   ],
   "source": [
    "alpha = 0.05\n",
    "icinf = p_estim - norm.ppf(1-alpha/2)*math.sqrt(p_estim*(1-p_estim)/n_guerison)\n",
    "icinf = round(icinf, 2)\n",
    "icinf\n",
    "# norm.ppf permet de déterminer la valeur de la distribution normale, qui donne une\n",
    "# probabilité \n",
    "# alpha ici représente le taux de risque\n",
    "# 2pi(t) - 1 = 1-alpha \n",
    "# pi(t) = 1- alpha/2\n",
    "# avec norm.ppf, on retrouve t"
   ]
  },
  {
   "cell_type": "code",
   "execution_count": 65,
   "id": "0567213d",
   "metadata": {},
   "outputs": [
    {
     "data": {
      "text/plain": [
       "0.83"
      ]
     },
     "execution_count": 65,
     "metadata": {},
     "output_type": "execute_result"
    }
   ],
   "source": [
    "icsup = p_estim + norm.ppf(1-alpha/2)*math.sqrt(p_estim*(1-p_estim)/n_guerison)\n",
    "icsup = round(icsup, 2)\n",
    "icsup"
   ]
  },
  {
   "cell_type": "markdown",
   "id": "f6bbde3d",
   "metadata": {},
   "source": [
    "######\n",
    " On obtient alors : l'intervalle de confiance = [0,72:0,83]\n",
    " On constate que la largeur de l'intervalle n'est pas négligeable, mais n'oublions pas qu'il n'y a que 216 individus dans l'échantillon.\n",
    " \n",
    " En pratique, le data analyst peut obtenir cet intervalle à l'aide de la commande proportion_confint:\n"
   ]
  },
  {
   "cell_type": "code",
   "execution_count": 66,
   "id": "5e8aa5fb",
   "metadata": {},
   "outputs": [
    {
     "data": {
      "text/plain": [
       "(0.7172980758199328, 0.8289982204763635)"
      ]
     },
     "execution_count": 66,
     "metadata": {},
     "output_type": "execute_result"
    }
   ],
   "source": [
    "from statsmodels.stats.proportion import proportion_confint\n",
    "proportion_confint(n_guerison_gueris, n_guerison, alpha = alpha, method = \"normal\")"
   ]
  },
  {
   "cell_type": "markdown",
   "id": "59ca6724",
   "metadata": {},
   "source": [
    "##### \n",
    "On aurait également pu obtenir un intervalle de confiance \"exact\", basé sur la loi binomiale"
   ]
  },
  {
   "cell_type": "code",
   "execution_count": 68,
   "id": "f5746eae",
   "metadata": {},
   "outputs": [
    {
     "data": {
      "text/plain": [
       "(0.7110082208476236, 0.8245118012028585)"
      ]
     },
     "execution_count": 68,
     "metadata": {},
     "output_type": "execute_result"
    }
   ],
   "source": [
    "proportion_confint(n_guerison_gueris, n_guerison, alpha = alpha, method =\"binom_test\")"
   ]
  },
  {
   "cell_type": "markdown",
   "id": "f1b95250",
   "metadata": {},
   "source": [
    "### Screencast 3 : IC sur moyenne essence"
   ]
  },
  {
   "cell_type": "markdown",
   "id": "cacbf583",
   "metadata": {},
   "source": [
    "##### \n",
    "Si on souhaite encadrer la consommation d'essence moyenne (théorique) µ avec une probabilité de 95%, on obtient alors comme intervalle de confiance"
   ]
  },
  {
   "cell_type": "code",
   "execution_count": 72,
   "id": "7d95195f",
   "metadata": {},
   "outputs": [],
   "source": [
    "essence = pd.read_csv(\"essence.txt\")"
   ]
  },
  {
   "cell_type": "code",
   "execution_count": 73,
   "id": "41b4374b",
   "metadata": {},
   "outputs": [
    {
     "data": {
      "text/plain": [
       "128"
      ]
     },
     "execution_count": 73,
     "metadata": {},
     "output_type": "execute_result"
    }
   ],
   "source": [
    "n_essence = len(essence)\n",
    "n_essence"
   ]
  },
  {
   "cell_type": "code",
   "execution_count": null,
   "id": "eb44b982",
   "metadata": {},
   "outputs": [],
   "source": []
  },
  {
   "cell_type": "code",
   "execution_count": 74,
   "id": "1aecd298",
   "metadata": {},
   "outputs": [
    {
     "data": {
      "text/plain": [
       "31.07"
      ]
     },
     "execution_count": 74,
     "metadata": {},
     "output_type": "execute_result"
    }
   ],
   "source": [
    "import scipy\n",
    "icinf = xbar-scipy.stats.t.ppf(1-alpha/2, n_essence - 1)*EcT/math.sqrt(n_essence)\n",
    "icinf = round(icinf,2)\n",
    "icinf"
   ]
  },
  {
   "cell_type": "code",
   "execution_count": 76,
   "id": "83091949",
   "metadata": {},
   "outputs": [
    {
     "data": {
      "text/plain": [
       "31.83"
      ]
     },
     "execution_count": 76,
     "metadata": {},
     "output_type": "execute_result"
    }
   ],
   "source": [
    "icsup = xbar+ scipy.stats.t.ppf(1-alpha/2, n_essence - 1)*EcT/math.sqrt(n_essence)\n",
    "icsup = round(icsup, 2)\n",
    "icsup"
   ]
  },
  {
   "cell_type": "markdown",
   "id": "6cc96b32",
   "metadata": {},
   "source": [
    "##### \n",
    "on obtient alors IC = [31,07: 31,83]"
   ]
  },
  {
   "cell_type": "markdown",
   "id": "b5942031",
   "metadata": {},
   "source": [
    "### Screecast 4 : IC sur variance Essence"
   ]
  },
  {
   "cell_type": "markdown",
   "id": "6826b90d",
   "metadata": {},
   "source": [
    "##### \n",
    "Si on souhaite encadrer la variance (théorique) de la consommation d'essence sigma-carré, avec une probabilité de 95%, on obtient alors comme intervalle de confiance"
   ]
  },
  {
   "cell_type": "code",
   "execution_count": 78,
   "id": "514c11a4",
   "metadata": {},
   "outputs": [
    {
     "data": {
      "text/plain": [
       "3.7"
      ]
     },
     "execution_count": 78,
     "metadata": {},
     "output_type": "execute_result"
    }
   ],
   "source": [
    "icinf = (n_essence-1)*vriance/scipy.stats.chi2.ppf(1-alpha/2,n_essence-1)\n",
    "icinf = round(icinf,2)\n",
    "icinf"
   ]
  },
  {
   "cell_type": "code",
   "execution_count": 81,
   "id": "c37a5659",
   "metadata": {},
   "outputs": [
    {
     "data": {
      "text/plain": [
       "6.06"
      ]
     },
     "execution_count": 81,
     "metadata": {},
     "output_type": "execute_result"
    }
   ],
   "source": [
    "icsup = (n_essence-1)*vriance/scipy.stats.chi2.ppf(alpha/2,n_essence-1)\n",
    "icsup = round(icsup,2)\n",
    "icsup"
   ]
  },
  {
   "cell_type": "markdown",
   "id": "54bf53fe",
   "metadata": {},
   "source": [
    "##### \n",
    "Remarquons encore qu'ici l'hypothèse gaussiènne n'était pas obligatoire, en effet l'échantillon est de taille suffisamment importante (supérieure à 30)"
   ]
  },
  {
   "cell_type": "markdown",
   "id": "341f4354",
   "metadata": {},
   "source": [
    "### Screencast 5: test sur guerison"
   ]
  },
  {
   "cell_type": "code",
   "execution_count": 82,
   "id": "ba1fe132",
   "metadata": {},
   "outputs": [
    {
     "data": {
      "text/plain": [
       "0.24183479554060147"
      ]
     },
     "execution_count": 82,
     "metadata": {},
     "output_type": "execute_result"
    }
   ],
   "source": [
    "import statsmodels\n",
    "statsmodels.stats.proportion.binom_test(n_guerison_gueris, n_guerison, prop = 0.75, alternative = \"larger\")"
   ]
  },
  {
   "cell_type": "code",
   "execution_count": null,
   "id": "f133b42f",
   "metadata": {},
   "outputs": [],
   "source": []
  }
 ],
 "metadata": {
  "kernelspec": {
   "display_name": "Python 3 (ipykernel)",
   "language": "python",
   "name": "python3"
  },
  "language_info": {
   "codemirror_mode": {
    "name": "ipython",
    "version": 3
   },
   "file_extension": ".py",
   "mimetype": "text/x-python",
   "name": "python",
   "nbconvert_exporter": "python",
   "pygments_lexer": "ipython3",
   "version": "3.11.5"
  }
 },
 "nbformat": 4,
 "nbformat_minor": 5
}
